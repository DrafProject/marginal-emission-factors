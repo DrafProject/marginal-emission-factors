{
 "cells": [
  {
   "cell_type": "markdown",
   "metadata": {
    "ExecuteTime": {
     "end_time": "2021-07-06T18:50:14.308630Z",
     "start_time": "2021-07-06T18:50:14.305641Z"
    }
   },
   "source": [
    "# Make data"
   ]
  },
  {
   "cell_type": "code",
   "execution_count": 1,
   "metadata": {
    "ExecuteTime": {
     "end_time": "2021-07-06T18:49:47.105214Z",
     "start_time": "2021-07-06T18:49:46.005923Z"
    }
   },
   "outputs": [],
   "source": [
    "import pandas as pd\n",
    "import elmada\n",
    "\n",
    "COUNTRIES = [\n",
    "        'AT', 'BE', 'CZ', 'DE', 'DK', 'ES', 'FI', 'FR', 'GB', 'GR', 'HU', 'IE',\n",
    "        'IT', 'LT', 'NL', 'PL', 'PT', 'RO', 'RS', 'SI'\n",
    "    ]\n",
    "FREQS = [\"60min\", \"15min\"]\n",
    "YEARS = range(2017, 2021)"
   ]
  },
  {
   "cell_type": "code",
   "execution_count": 2,
   "metadata": {
    "ExecuteTime": {
     "end_time": "2021-07-06T18:49:48.204724Z",
     "start_time": "2021-07-06T18:49:48.172454Z"
    }
   },
   "outputs": [],
   "source": [
    "def make_data(year, country, freq):\n",
    "    df = elmada.get_emissions(year=year, country=country, freq=\"60min\", method=\"_PWL\")\n",
    "    df.index.name = \"T\"\n",
    "    if freq == \"15min\":\n",
    "        df = elmada.helper.upsample(df, year=year)\n",
    "    df.to_csv(f\"data/{freq}/CEFs_{year}_{country}.csv\")\n",
    "\n",
    "def check_length(year, country, freq):\n",
    "    df = pd.read_csv(f\"data/{freq}/CEFs_{year}_{country}.csv\")\n",
    "    steps_per_day = 96 if freq == \"15min\" else 24\n",
    "    days_per_year = 366 if year%4==0 else 365\n",
    "    assert len(df) == days_per_year * steps_per_day"
   ]
  },
  {
   "cell_type": "code",
   "execution_count": 8,
   "metadata": {
    "ExecuteTime": {
     "end_time": "2021-07-06T17:42:31.438256Z",
     "start_time": "2021-07-06T17:41:57.411982Z"
    }
   },
   "outputs": [],
   "source": [
    "# EXPENSIVE!\n",
    "\n",
    "for freq in FREQS:\n",
    "    for year in YEARS:\n",
    "        for country in COUNTRIES:\n",
    "            make_data(year=year, country=country, freq=freq)"
   ]
  },
  {
   "cell_type": "code",
   "execution_count": 9,
   "metadata": {
    "ExecuteTime": {
     "end_time": "2021-07-06T17:42:47.926520Z",
     "start_time": "2021-07-06T17:42:40.804906Z"
    }
   },
   "outputs": [],
   "source": [
    "for freq in FREQS:\n",
    "    for year in YEARS:\n",
    "        for country in COUNTRIES:\n",
    "            check_length(year=year, country=country, freq=freq)"
   ]
  },
  {
   "cell_type": "markdown",
   "metadata": {
    "ExecuteTime": {
     "end_time": "2021-07-06T18:50:14.308630Z",
     "start_time": "2021-07-06T18:50:14.305641Z"
    }
   },
   "source": [
    "# Make time zones for readme"
   ]
  },
  {
   "cell_type": "code",
   "execution_count": 7,
   "metadata": {
    "ExecuteTime": {
     "end_time": "2021-07-06T18:59:10.772335Z",
     "start_time": "2021-07-06T18:59:10.751632Z"
    }
   },
   "outputs": [
    {
     "name": "stdout",
     "output_type": "stream",
     "text": [
      "| Country | UTC offset | Time zone |\n",
      "| ------- | ---------- | -------- |\n",
      "| AT | UTC+1:00 | Europe/Vienna |\n",
      "| BE | UTC+1:00 | Europe/Brussels |\n",
      "| CZ | UTC+1:00 | Europe/Prague |\n",
      "| DE | UTC+1:00 | Europe/Berlin |\n",
      "| DK | UTC+1:00 | Europe/Copenhagen |\n",
      "| ES | UTC+1:00 | Europe/Madrid |\n",
      "| FI | UTC+2:00 | Europe/Helsinki |\n",
      "| FR | UTC+1:00 | Europe/Paris |\n",
      "| GB | UTC+0:00 | Europe/London |\n",
      "| GR | UTC+2:00 | Europe/Athens |\n",
      "| HU | UTC+1:00 | Europe/Budapest |\n",
      "| IE | UTC+0:00 | Europe/Dublin |\n",
      "| IT | UTC+1:00 | Europe/Rome |\n",
      "| LT | UTC+2:00 | Europe/Vilnius |\n",
      "| NL | UTC+1:00 | Europe/Amsterdam |\n",
      "| PL | UTC+1:00 | Europe/Warsaw |\n",
      "| PT | UTC+0:00 | Europe/Lisbon |\n",
      "| RO | UTC+2:00 | Europe/Bucharest |\n",
      "| RS | UTC+1:00 | Europe/Belgrade |\n",
      "| SI | UTC+1:00 | Europe/Ljubljana |\n"
     ]
    }
   ],
   "source": [
    "import pytz\n",
    "import datetime\n",
    "\n",
    "print(\"| Country | UTC offset | Time zone |\")\n",
    "print(\"| ------- | ---------- | -------- |\")\n",
    "d = dict()\n",
    "for cy in elmada.mappings.COUNTRIES_FOR_ANALYSIS:\n",
    "    tz = pytz.timezone(elmada.from_entsoe.get_timezone(cy))\n",
    "    delta_seconds = tz.utcoffset(datetime.datetime(2019,1,1))\n",
    "    delta_hours = delta_seconds.seconds // 3600\n",
    "    print(f\"| {cy} | UTC+{delta_hours:.0f}:00 | {tz} |\")"
   ]
  }
 ],
 "metadata": {
  "interpreter": {
   "hash": "a165429d2ec85e820228d31a57779fd738597a37070c20e5ec399b9c7bb4af3f"
  },
  "kernelspec": {
   "display_name": "Python 3",
   "language": "python",
   "name": "python3"
  },
  "language_info": {
   "codemirror_mode": {
    "name": "ipython",
    "version": 3
   },
   "file_extension": ".py",
   "mimetype": "text/x-python",
   "name": "python",
   "nbconvert_exporter": "python",
   "pygments_lexer": "ipython3",
   "version": "3.7.5"
  },
  "toc": {
   "base_numbering": 1,
   "nav_menu": {},
   "number_sections": true,
   "sideBar": true,
   "skip_h1_title": false,
   "title_cell": "Table of Contents",
   "title_sidebar": "Contents",
   "toc_cell": false,
   "toc_position": {},
   "toc_section_display": true,
   "toc_window_display": false
  }
 },
 "nbformat": 4,
 "nbformat_minor": 4
}
