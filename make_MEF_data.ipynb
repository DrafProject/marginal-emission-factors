{
 "cells": [
  {
   "cell_type": "code",
   "execution_count": 1,
   "metadata": {
    "ExecuteTime": {
     "end_time": "2021-04-05T09:09:40.089711Z",
     "start_time": "2021-04-05T09:09:38.062546Z"
    }
   },
   "outputs": [],
   "source": [
    "import pandas as pd\n",
    "import draf\n",
    "\n",
    "COUNTRIES = [\n",
    "        'AT', 'BE', 'CZ', 'DE', 'DK', 'ES', 'FI', 'FR', 'GB', 'GR', 'HU', 'IE',\n",
    "        'IT', 'LT', 'NL', 'PL', 'PT', 'RO', 'RS', 'SI'\n",
    "    ]\n",
    "FREQS = [\"60min\", \"15min\"]\n",
    "YEARS = range(2017, 2021)"
   ]
  },
  {
   "cell_type": "code",
   "execution_count": 2,
   "metadata": {
    "ExecuteTime": {
     "end_time": "2021-04-05T09:09:40.099753Z",
     "start_time": "2021-04-05T09:09:40.089711Z"
    }
   },
   "outputs": [],
   "source": [
    "def make_data(year, country, freq):\n",
    "    df = draf.io.get_emissions(year=year, country=country, freq=\"60min\", additional_info=True, method=\"_PWL\")\n",
    "    df.index.name = \"T\"\n",
    "    if freq == \"15min\":\n",
    "        df = draf.hp.upsample(df, year=year)\n",
    "    df.to_csv(f\"data/{freq}/CEFs_{year}_{country}.csv\")\n",
    "\n",
    "def check_length(year, country, freq):\n",
    "    df = pd.read_csv(f\"data/{freq}/CEFs_{year}_{country}.csv\")\n",
    "    steps_per_day = 96 if freq == \"15min\" else 24\n",
    "    days_per_year = 366 if year%4==0 else 365\n",
    "    assert len(df) == days_per_year * steps_per_day"
   ]
  },
  {
   "cell_type": "code",
   "execution_count": null,
   "metadata": {
    "ExecuteTime": {
     "end_time": "2021-03-30T10:19:15.925036Z",
     "start_time": "2021-03-30T10:18:38.902444Z"
    }
   },
   "outputs": [],
   "source": [
    "# EXPENSIVE!\n",
    "\n",
    "for freq in FREQS:\n",
    "    for year in YEARS:\n",
    "        for cy in COUNTRIES:\n",
    "            make_data(year=year, country=country, freq=freq)"
   ]
  },
  {
   "cell_type": "code",
   "execution_count": 3,
   "metadata": {
    "ExecuteTime": {
     "end_time": "2021-04-05T09:09:44.745790Z",
     "start_time": "2021-04-05T09:09:40.109244Z"
    }
   },
   "outputs": [],
   "source": [
    "for freq in FREQS:\n",
    "    for year in YEARS:\n",
    "        for country in COUNTRIES:\n",
    "            check_length(year=year, country=country, freq=freq)"
   ]
  }
 ],
 "metadata": {
  "kernelspec": {
   "display_name": "Python 3",
   "language": "python",
   "name": "python3"
  },
  "language_info": {
   "codemirror_mode": {
    "name": "ipython",
    "version": 3
   },
   "file_extension": ".py",
   "mimetype": "text/x-python",
   "name": "python",
   "nbconvert_exporter": "python",
   "pygments_lexer": "ipython3",
   "version": "3.7.5"
  },
  "toc": {
   "base_numbering": 1,
   "nav_menu": {},
   "number_sections": true,
   "sideBar": true,
   "skip_h1_title": false,
   "title_cell": "Table of Contents",
   "title_sidebar": "Contents",
   "toc_cell": false,
   "toc_position": {},
   "toc_section_display": true,
   "toc_window_display": false
  }
 },
 "nbformat": 4,
 "nbformat_minor": 4
}
